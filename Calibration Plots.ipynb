{
 "cells": [
  {
   "cell_type": "code",
   "execution_count": 13,
   "metadata": {},
   "outputs": [],
   "source": [
    "%matplotlib inline\n",
    "import matplotlib.pyplot as plt\n",
    "import matplotlib\n",
    "matplotlib.rcParams.update({'font.size': 20})\n",
    "\n",
    "import csv\n",
    "import os"
   ]
  },
  {
   "cell_type": "code",
   "execution_count": 14,
   "metadata": {},
   "outputs": [
    {
     "data": {
      "text/plain": [
       "['1_Lead.csv',\n",
       " '2_bronze.csv',\n",
       " '3_titanium.csv',\n",
       " '4_5pence.csv',\n",
       " '5_Copper.csv',\n",
       " '6_shinymetal.csv',\n",
       " 'Ag_9NOV.csv',\n",
       " 'Ba_9NOV.csv',\n",
       " 'Cu_09NOV.csv',\n",
       " 'Mo_9NOV.csv',\n",
       " 'Rb_9NOV.csv',\n",
       " 'Tb_9NOV.csv']"
      ]
     },
     "execution_count": 14,
     "metadata": {},
     "output_type": "execute_result"
    }
   ],
   "source": [
    "os.listdir(\"data\")"
   ]
  },
  {
   "cell_type": "code",
   "execution_count": 39,
   "metadata": {},
   "outputs": [
    {
     "data": {
      "image/png": "[encoded data removed]",
      "text/plain": [
       "<matplotlib.figure.Figure at 0x1077c7d10>"
      ]
     },
     "metadata": {},
     "output_type": "display_data"
    },
    {
     "data": {
      "application/vnd.jupyter.widget-view+json": {
       "model_id": "633be7853f2545188c9d0a984c0f107a",
       "version_major": 2,
       "version_minor": 0
      },
      "text/html": [
       "<p>Failed to display Jupyter Widget of type <code>interactive</code>.</p>\n",
       "<p>\n",
       "  If you're reading this message in Jupyter Notebook or JupyterLab, it may mean\n",
       "  that the widgets JavaScript is still loading. If this message persists, it\n",
       "  likely means that the widgets JavaScript library is either not installed or\n",
       "  not enabled. See the <a href=\"https://ipywidgets.readthedocs.io/en/stable/user_install.html\">Jupyter\n",
       "  Widgets Documentation</a> for setup instructions.\n",
       "</p>\n",
       "<p>\n",
       "  If you're reading this message in another notebook frontend (for example, a static\n",
       "  rendering on GitHub or <a href=\"https://nbviewer.jupyter.org/\">NBViewer</a>),\n",
       "  it may mean that your frontend doesn't currently support widgets.\n",
       "</p>\n"
      ],
      "text/plain": [
       "interactive(children=(IntSlider(value=0, description=u'MIN_RANGE', max=2000, step=5), IntSlider(value=2000, description=u'MAX_RANGE', max=2000, step=5), Button(description=u'Run Interact', style=ButtonStyle()), Output()), _dom_classes=('widget-interact',))"
      ]
     },
     "metadata": {},
     "output_type": "display_data"
    }
   ],
   "source": [
    "%matplotlib inline\n",
    "\n",
    "from ipywidgets import interact, interactive, fixed, interact_manual\n",
    "import ipywidgets as widgets\n",
    "\n",
    "\n",
    "plt.rc('font', **{'family': 'serif', 'weight': 'normal', 'size': 16})\n",
    "plt.rc('text', usetex=False)\n",
    "\n",
    "def run_analysis(MIN_RANGE, MAX_RANGE):\n",
    "    f = open(\"data/Mo_9NOV.csv\", 'r')\n",
    "    csvreader = csv.reader(f)\n",
    "    csvreader.next()\n",
    "    x = []\n",
    "    y = []\n",
    "    for row in csvreader:\n",
    "#         print row\n",
    "        if (int(row[0]) > MIN_RANGE and int(row[0]) < MAX_RANGE):\n",
    "            x.append(row[0])\n",
    "            y.append(row[1])\n",
    "       \n",
    "    plt.plot(x, y)\n",
    "    \n",
    "\n",
    "\n",
    "# file 1\n",
    "# 350-410\n",
    "#\n",
    "# file 2\n",
    "# 610-685\n",
    "# \n",
    "# file 3\n",
    "# 475-555\n",
    "# \n",
    "# file4\n",
    "# 292-350\n",
    "# \n",
    "# file 5\n",
    "# 680-790\n",
    "    \n",
    "xmin = 00\n",
    "xmax = 2000\n",
    "\n",
    "run_analysis(xmin, xmax)\n",
    "    \n",
    "interact_manual(run_analysis, MIN_RANGE=widgets.IntSlider(min=xmin,max=xmax,step=5,value=xmin),\n",
    "                MAX_RANGE=widgets.IntSlider(min=xmin,max=xmax,step=5,value=xmax));\n",
    "\n",
    "\n",
    "\n",
    "\n",
    "\n"
   ]
  },
  {
   "cell_type": "code",
   "execution_count": null,
   "metadata": {},
   "outputs": [],
   "source": []
  }
 ],
 "metadata": {
  "kernelspec": {
   "display_name": "Python 2",
   "language": "python",
   "name": "python2"
  },
  "language_info": {
   "codemirror_mode": {
    "name": "ipython",
    "version": 2
   },
   "file_extension": ".py",
   "mimetype": "text/x-python",
   "name": "python",
   "nbconvert_exporter": "python",
   "pygments_lexer": "ipython2",
   "version": "2.7.13"
  }
 },
 "nbformat": 4,
 "nbformat_minor": 2
}
