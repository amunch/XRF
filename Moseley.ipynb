{
 "cells": [
  {
   "cell_type": "code",
   "execution_count": 66,
   "metadata": {},
   "outputs": [
    {
     "name": "stdout",
     "output_type": "stream",
     "text": [
      "[22103.0361054, 32061.3492823, 8039.68044526, 17443.5305466, 13375.5092745, 44482] [617.11011058306644, 897.67776648129131, 222.74486318523557, 488.66361669804763, 372.55884025342209, 1241.7848057552901] [-4.930325428449283, 8.1737920365223236, 2.6216706271046331, 5.6194367948188333, 3.2873332257505354, -5.4747361202718849]\n",
      "                            WLS Regression Results                            \n",
      "==============================================================================\n",
      "Dep. Variable:                      x   R-squared:                       1.000\n",
      "Model:                            WLS   Adj. R-squared:                  1.000\n",
      "Method:                 Least Squares   F-statistic:                 1.892e+05\n",
      "Date:                Wed, 29 Nov 2017   Prob (F-statistic):           1.68e-10\n",
      "Time:                        16:30:36   Log-Likelihood:                -32.517\n",
      "No. Observations:                   6   AIC:                             69.03\n",
      "Df Residuals:                       4   BIC:                             68.62\n",
      "Df Model:                           1                                         \n",
      "Covariance Type:            nonrobust                                         \n",
      "==============================================================================\n",
      "                 coef    std err          t      P>|t|      [0.025      0.975]\n",
      "------------------------------------------------------------------------------\n",
      "Intercept    -16.2245     68.672     -0.236      0.825    -206.889     174.440\n",
      "y             35.7851      0.082    434.979      0.000      35.557      36.014\n",
      "==============================================================================\n",
      "Omnibus:                          nan   Durbin-Watson:                   2.393\n",
      "Prob(Omnibus):                    nan   Jarque-Bera (JB):                0.824\n",
      "Skew:                          -0.779   Prob(JB):                        0.662\n",
      "Kurtosis:                       2.068   Cond. No.                     2.38e+03\n",
      "==============================================================================\n",
      "\n",
      "Warnings:\n",
      "[1] Standard Errors assume that the covariance matrix of the errors is correctly specified.\n",
      "[2] The condition number is large, 2.38e+03. This might indicate that there are\n",
      "strong multicollinearity or other numerical problems.\n"
     ]
    },
    {
     "data": {
      "text/plain": [
       "<matplotlib.figure.Figure at 0x71a45469e350>"
      ]
     },
     "metadata": {},
     "output_type": "display_data"
    },
    {
     "data": {
      "image/png": "[encoded data removed]",
      "text/plain": [
       "<matplotlib.figure.Figure at 0x71a4543e4cd0>"
      ]
     },
     "metadata": {},
     "output_type": "display_data"
    },
    {
     "name": "stdout",
     "output_type": "stream",
     "text": [
      "([148.6708986500048, 179.05683254849563, 89.664265152066008, 132.07395862394677, 115.65253682691097, 210.90756269038812], [-0.59336504044052418, 0.81677986270830194, 0.52315583128212817, 0.76128615472343819, 0.5085819019102682, -0.46445471287217188])\n",
      "                            WLS Regression Results                            \n",
      "==============================================================================\n",
      "Dep. Variable:                      x   R-squared:                       1.000\n",
      "Model:                            WLS   Adj. R-squared:                  1.000\n",
      "Method:                 Least Squares   F-statistic:                 1.394e+04\n",
      "Date:                Wed, 29 Nov 2017   Prob (F-statistic):           3.09e-08\n",
      "Time:                        16:30:36   Log-Likelihood:                 1.6447\n",
      "No. Observations:                   6   AIC:                            0.7106\n",
      "Df Residuals:                       4   BIC:                            0.2941\n",
      "Df Model:                           1                                         \n",
      "Covariance Type:            nonrobust                                         \n",
      "==============================================================================\n",
      "                 coef    std err          t      P>|t|      [0.025      0.975]\n",
      "------------------------------------------------------------------------------\n",
      "Intercept      2.5471      0.385      6.619      0.003       1.479       3.615\n",
      "y              0.2980      0.003    118.064      0.000       0.291       0.305\n",
      "==============================================================================\n",
      "Omnibus:                          nan   Durbin-Watson:                   1.773\n",
      "Prob(Omnibus):                    nan   Jarque-Bera (JB):                0.818\n",
      "Skew:                          -0.546   Prob(JB):                        0.664\n",
      "Kurtosis:                       1.557   Cond. No.                         667.\n",
      "==============================================================================\n",
      "\n",
      "Warnings:\n",
      "[1] Standard Errors assume that the covariance matrix of the errors is correctly specified.\n"
     ]
    },
    {
     "data": {
      "text/plain": [
       "<matplotlib.figure.Figure at 0x71a454642450>"
      ]
     },
     "metadata": {},
     "output_type": "display_data"
    },
    {
     "data": {
      "image/png": "[encoded data removed]",
      "text/plain": [
       "<matplotlib.figure.Figure at 0x71a454243310>"
      ]
     },
     "metadata": {},
     "output_type": "display_data"
    },
    {
     "name": "stdout",
     "output_type": "stream",
     "text": [
      "0    47\n",
      "1    56\n",
      "2    29\n",
      "3    42\n",
      "4    37\n",
      "5    65\n",
      "Name: x, dtype: int64 0    148.670899\n",
      "1    179.056833\n",
      "2     89.664265\n",
      "3    132.073959\n",
      "4    115.652537\n",
      "5    210.907563\n",
      "Name: y, dtype: float64 2.54705046345\n"
     ]
    },
    {
     "data": {
      "text/plain": [
       "<matplotlib.figure.Figure at 0x71a453fe5310>"
      ]
     },
     "metadata": {},
     "output_type": "display_data"
    },
    {
     "data": {
      "image/png": "[encoded data removed]",
      "text/plain": [
       "<matplotlib.figure.Figure at 0x71a4547869d0>"
      ]
     },
     "metadata": {},
     "output_type": "display_data"
    },
    {
     "name": "stdout",
     "output_type": "stream",
     "text": [
      "slope: 3.35543341618 0.0284203711853\n",
      "intercept: -8.54645823777 -1.29319552717\n",
      "a: 2.54705046345 0.386006749782\n"
     ]
    },
    {
     "data": {
      "text/plain": [
       "<matplotlib.figure.Figure at 0x71a453c04dd0>"
      ]
     },
     "metadata": {},
     "output_type": "display_data"
    },
    {
     "data": {
      "image/png": "[encoded data removed]",
      "text/plain": [
       "<matplotlib.figure.Figure at 0x71a453c041d0>"
      ]
     },
     "metadata": {},
     "output_type": "display_data"
    }
   ],
   "source": [
    "%matplotlib inline\n",
    "import pandas\n",
    "import numpy as np\n",
    "\n",
    "import matplotlib.pyplot as plt\n",
    "import analysis\n",
    "reload(analysis)\n",
    "\n",
    "ranges = [(580, 660), (850, 950), (220, 240), \\\n",
    "          (470, 525), (360, 400), (1230, 1255)]\n",
    "energies = [22103.0361054, 32061.3492823, 8039.68044526, \\\n",
    "            17443.5305466, 13375.5092745, 44482]\n",
    "\n",
    "calibration_files = ['Ag_9NOV.csv', 'Ba_9NOV.csv', 'Cu_09NOV.csv', \\\n",
    "                     'Mo_9NOV.csv', 'Rb_9NOV.csv', 'Tb_9NOV.csv']\n",
    "\n",
    "atomic_numbers = [47, 56, 29, 42, 37, 65]\n",
    "\n",
    "data = []\n",
    "means = []\n",
    "stds = []\n",
    "\n",
    "for index, calibration in enumerate(calibration_files):\n",
    "    data = pandas.read_csv('data/' + calibration)\n",
    "    a, mean, std = analysis.find_gaussian(data, ranges[index])\n",
    "    means.append(mean)\n",
    "    stds.append(std)\n",
    "    data['Fit'] = data['Channel'].apply(lambda chan: analysis.gauss_function(chan, a, mean, std))\n",
    "    \n",
    "chan_params = analysis.find_regression(energies, means, stds)\n",
    "wls_fit = chan_params[2]\n",
    "print(wls_fit.summary())\n",
    "ws = chan_params[3]\n",
    "\n",
    "y = chan_params[0][0]\n",
    "intercept = chan_params[0][1]\n",
    "\n",
    "plt.clf()\n",
    "fig = plt.figure()\n",
    "ax = fig.add_subplot(111, axisbg='w')\n",
    "ax_fit = ws.plot(\n",
    "    kind='scatter',\n",
    "    x='x',\n",
    "    y='y',\n",
    "    yerr='yerr',\n",
    "    style='o',\n",
    "    alpha=1.,\n",
    "    ax=ax,\n",
    "    title='Energy (eV) vs. Channel',\n",
    "    edgecolor='#ff8300',\n",
    "    s=40\n",
    ")\n",
    "\n",
    "# weighted prediction\n",
    "wp, = ax.plot(\n",
    "    wls_fit.predict(),\n",
    "    ws['y'],\n",
    "    color='#e55ea2',\n",
    "    lw=1.,\n",
    "    alpha=1.0,\n",
    ")\n",
    "\n",
    "plt.tight_layout()\n",
    "fig.set_size_inches(6.40, 5.12)\n",
    "plt.savefig(\"energy_fit.png\", dpi=100, alpha=True)\n",
    "plt.show()\n",
    "\n",
    "#energy_means = map(lambda x: y*x + intercept, means)\n",
    "energy_means = energies\n",
    "energy_stds = map(lambda x: y*x, stds)\n",
    "relative_error = map(lambda x: x[1]/x[0], zip(energy_means, energy_stds))\n",
    "sqrt_energies = map(lambda x: np.sqrt(x), energy_means)\n",
    "sqrt_energies_error = map(lambda x: x[0]*(x[1]/2), zip(sqrt_energies, relative_error))\n",
    "print(sqrt_energies, sqrt_energies_error)\n",
    "\n",
    "mos_params = analysis.find_regression_inverse(atomic_numbers, sqrt_energies, sqrt_energies_error)\n",
    "wls_fit = mos_params[2]\n",
    "print(wls_fit.summary())\n",
    "ws = mos_params[3]\n",
    "\n",
    "mos_y = mos_params[0][0]\n",
    "mos_intercept = mos_params[0][1]\n",
    "mos_y_err = mos_params[1][0]\n",
    "mos_intercept_err = mos_params[1][1]\n",
    "plt.clf()\n",
    "fig = plt.figure()\n",
    "ax = fig.add_subplot(111, axisbg='w')\n",
    "ax_fit = ws.plot(\n",
    "    kind='scatter',\n",
    "    x='x',\n",
    "    y='y',\n",
    "    yerr='yerr',\n",
    "    style='o',\n",
    "    alpha=1.,\n",
    "    ax=ax,\n",
    "    title='Atomic Number vs. Sqrt Energy',\n",
    "    edgecolor='#ff8300',\n",
    "    s=40\n",
    ")\n",
    "\n",
    "# weighted prediction\n",
    "wp, = ax.plot(\n",
    "    wls_fit.predict(),\n",
    "    ws['y'],\n",
    "    color='#e55ea2',\n",
    "    lw=1.,\n",
    "    alpha=1.0,\n",
    ")\n",
    "\n",
    "plt.tight_layout()\n",
    "fig.set_size_inches(6.40, 5.12)\n",
    "plt.savefig(\"atomic_number_fit.png\", dpi=100, alpha=True)\n",
    "plt.show()\n",
    "\n",
    "slope = 1/mos_y\n",
    "slope_err = mos_y_err/mos_y*slope\n",
    "intercept = -1*mos_intercept/mos_y\n",
    "intercept_err = np.sqrt((mos_y_err/mos_y)**2 + (mos_intercept_err/mos_intercept)**2)*intercept\n",
    "\n",
    "a = -1*intercept/slope\n",
    "a_err = np.sqrt((intercept_err/intercept)**2 + (slope_err/slope)**2)*a\n",
    "\n",
    "ws['mos_fit'] = ws['x'].apply(lambda x:np.sqrt(10.2)*(x-1))\n",
    "ws['fit'] = ws['x'].apply(lambda x:x*slope+intercept)\n",
    "ws['fit_err'] = ws['x'].apply(lambda x:(np.sqrt((slope_err*x)**2 + intercept_err**2)))\n",
    "ws['mos_dev'] = ws['y'] - ws['mos_fit']\n",
    "ws['our_dev'] = ws['y'] - ws['fit']\n",
    "print ws['x'], ws['y'], mos_intercept\n",
    "ws['our_dev_err'] = list(map(lambda t: np.sqrt(t[0]**2 + t[1]**2), zip(ws['yerr'], ws['fit_err'])))\n",
    "\n",
    "plt.clf()\n",
    "fig = plt.figure()\n",
    "ax = fig.add_subplot(111, axisbg='w')\n",
    "ax_fit = ws.plot(\n",
    "    kind='scatter',\n",
    "    x='x',\n",
    "    y='mos_dev',\n",
    "    yerr='yerr',\n",
    "    style='o',\n",
    "    alpha=1.,\n",
    "    ax=ax,\n",
    "    title='Moseley Deviations',\n",
    "    edgecolor='#ff8300',\n",
    "    s=40\n",
    ")\n",
    "plt.show()\n",
    "\n",
    "plt.clf()\n",
    "fig = plt.figure()\n",
    "ax = fig.add_subplot(111, axisbg='w')\n",
    "ax_fit = ws.plot(\n",
    "    kind='scatter',\n",
    "    x='x',\n",
    "    y='our_dev',\n",
    "    yerr='our_dev_err',\n",
    "    style='o',\n",
    "    alpha=1.,\n",
    "    ax=ax,\n",
    "    title='Our Deviations',\n",
    "    edgecolor='#ff8300',\n",
    "    s=40\n",
    ")\n",
    "\n",
    "print 'slope:', slope, slope_err\n",
    "print 'intercept:', intercept, intercept_err\n",
    "print 'a:', a, a_err"
   ]
  },
  {
   "cell_type": "code",
   "execution_count": null,
   "metadata": {
    "collapsed": true
   },
   "outputs": [],
   "source": []
  },
  {
   "cell_type": "code",
   "execution_count": null,
   "metadata": {
    "collapsed": true
   },
   "outputs": [],
   "source": []
  }
 ],
 "metadata": {
  "kernelspec": {
   "display_name": "Python 2",
   "language": "python",
   "name": "python2"
  },
  "language_info": {
   "codemirror_mode": {
    "name": "ipython",
    "version": 2
   },
   "file_extension": ".py",
   "mimetype": "text/x-python",
   "name": "python",
   "nbconvert_exporter": "python",
   "pygments_lexer": "ipython2",
   "version": "2.7.6"
  }
 },
 "nbformat": 4,
 "nbformat_minor": 2
}
