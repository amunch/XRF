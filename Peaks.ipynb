{
 "cells": [
  {
   "cell_type": "code",
   "execution_count": 4,
   "metadata": {},
   "outputs": [
    {
     "name": "stdout",
     "output_type": "stream",
     "text": [
      "Ag: 22162.7097452\n",
      "Ba: 32193.7098091\n",
      "Cu: 8046.00501334\n",
      "Mo: 17479.7093514\n",
      "Rb: 13395.7078098\n",
      "Tb: 44481.7085701\n"
     ]
    }
   ],
   "source": [
    "import numpy as np\n",
    "\n",
    "def get_weighted(k1, k1p, k2, k2p):\n",
    "    return (k1*k1p + k2*k2p)/(k1p + k2p)\n",
    "\n",
    "# Ag\n",
    "print 'Ag:', get_weighted(22163, 21990, 0.5429, 0.2880)\n",
    "\n",
    "# Ba\n",
    "print 'Ba:', get_weighted(32194, 31817, 0.5283, 0.2868)\n",
    "\n",
    "# Cu\n",
    "print 'Cu:', get_weighted(8046.3, 8026.7, 0.5771, 0.2943)\n",
    "\n",
    "# Mo\n",
    "print 'Mo:', get_weighted(17480, 17374, 0.5508, 0.2889)\n",
    "\n",
    "# Rb\n",
    "print 'Rb:', get_weighted(13396, 13336, 0.5609, 0.2909)\n",
    "\n",
    "# Tb\n",
    "print 'Tb:', get_weighted(44482, 43744, 0.5141, 0.2866)"
   ]
  },
  {
   "cell_type": "code",
   "execution_count": null,
   "metadata": {
    "collapsed": true
   },
   "outputs": [],
   "source": []
  }
 ],
 "metadata": {
  "kernelspec": {
   "display_name": "Python 2",
   "language": "python",
   "name": "python2"
  },
  "language_info": {
   "codemirror_mode": {
    "name": "ipython",
    "version": 2
   },
   "file_extension": ".py",
   "mimetype": "text/x-python",
   "name": "python",
   "nbconvert_exporter": "python",
   "pygments_lexer": "ipython2",
   "version": "2.7.6"
  }
 },
 "nbformat": 4,
 "nbformat_minor": 2
}
