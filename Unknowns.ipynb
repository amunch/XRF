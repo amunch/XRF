{
 "cells": [
  {
   "cell_type": "code",
   "execution_count": 15,
   "metadata": {
    "collapsed": false
   },
   "outputs": [
    {
     "name": "stdout",
     "output_type": "stream",
     "text": [
      "1_Lead.csv has a peak at 10493.3105355 +/- 240.087313859 eV\n",
      "1_Lead.csv has a peak at 12551.7194963 +/- 306.161772198 eV\n",
      "2_bronze.csv has a peak at 7993.42433667 +/- 251.55517841 eV\n",
      "4_5pence.csv has a peak at 8019.72613391 +/- -245.13374874 eV\n",
      "5_Copper.csv has a peak at 7974.71001325 +/- 207.375066434 eV\n",
      "6_shinymetal.csv has a peak at 6354.6671517 +/- -171.600722962 eV\n"
     ]
    }
   ],
   "source": [
    "%matplotlib inline\n",
    "import pandas\n",
    "import numpy as np\n",
    "\n",
    "import matplotlib.pyplot as plt\n",
    "import analysis\n",
    "reload(analysis)\n",
    "\n",
    "def convert(i):\n",
    "    return i*35.7851 - 16.2245\n",
    "\n",
    "files = ['1_Lead.csv', '2_bronze.csv', '4_5pence.csv', \\\n",
    "         '5_Copper.csv', '6_shinymetal.csv']\n",
    "\n",
    "peaks = [[(280, 300), (330, 360)], [(215, 230)], [(215, 235)], \\\n",
    "         [(215, 230)], [(170, 185)]]\n",
    "\n",
    "for index, f in enumerate(files):\n",
    "    data = pandas.read_csv('data/' + f)\n",
    "    for peak in peaks[index]:\n",
    "        a, mean, std = analysis.find_gaussian(data, peak)\n",
    "        print('{} has a peak at {} +/- {} eV'.format(f, convert(mean), convert(std)))\n",
    "    "
   ]
  },
  {
   "cell_type": "markdown",
   "metadata": {},
   "source": [
    "Lead peak 1 at 10493 is the Lalpha1 peak L3-M4, 0.7077 probability, and 10551.0 eV.\n",
    "Lead peak 2 at 12551 is the Lbeta1 peak L2-M4, 0.7878 probability, and 12614.0 eV.\n",
    "\n",
    "For the copper peaks, we get a mixture of Kalpha2, K-L2, 0.2943 probability, and energy 8026.7eV.  Kalpha1, K-L3, 0.5771 probability, 8046.3 eV.\n",
    "\n",
    "ShinyMetal peak at 6354 is a mix of iron Kalpha2 which is K-L2 (0.2940 probability), which has an energy of 6392.1 and iron Kalpha1 which is K-L3 with probability (0.5803) and energy of 6405.2 eV "
   ]
  }
 ],
 "metadata": {
  "kernelspec": {
   "display_name": "Python 2",
   "language": "python",
   "name": "python2"
  },
  "language_info": {
   "codemirror_mode": {
    "name": "ipython",
    "version": 2
   },
   "file_extension": ".py",
   "mimetype": "text/x-python",
   "name": "python",
   "nbconvert_exporter": "python",
   "pygments_lexer": "ipython2",
   "version": "2.7.11"
  }
 },
 "nbformat": 4,
 "nbformat_minor": 2
}
